{
  "nbformat": 4,
  "nbformat_minor": 0,
  "metadata": {
    "colab": {
      "provenance": [],
      "authorship_tag": "ABX9TyNgHUPDJ/UhatuG3tONx81/",
      "include_colab_link": true
    },
    "kernelspec": {
      "name": "python3",
      "display_name": "Python 3"
    },
    "language_info": {
      "name": "python"
    }
  },
  "cells": [
    {
      "cell_type": "markdown",
      "metadata": {
        "id": "view-in-github",
        "colab_type": "text"
      },
      "source": [
        "<a href=\"https://colab.research.google.com/github/torquerxf/learn-spacy/blob/main/NLP_livecoding6.ipynb\" target=\"_parent\"><img src=\"https://colab.research.google.com/assets/colab-badge.svg\" alt=\"Open In Colab\"/></a>"
      ]
    },
    {
      "cell_type": "code",
      "execution_count": null,
      "metadata": {
        "id": "s_6fCfAI6Ica"
      },
      "outputs": [],
      "source": [
        "# RegEx"
      ]
    },
    {
      "cell_type": "code",
      "source": [
        "import re"
      ],
      "metadata": {
        "id": "4zNdKkHG6QVI"
      },
      "execution_count": 1,
      "outputs": []
    },
    {
      "cell_type": "code",
      "source": [
        "pattern = r\"((\\d){1,2} (January|February|March|April|May|June|July|August|September|October|November|December))\"\n",
        "\n",
        "text = \"This is a date 18 July. Another date would be 19 January.\"\n",
        "matches = re.findall(pattern, text)\n",
        "print(matches)"
      ],
      "metadata": {
        "colab": {
          "base_uri": "https://localhost:8080/"
        },
        "id": "OApJ-JbH6Uan",
        "outputId": "dee44cfc-fe03-4f7e-a6d8-c154705ed91c"
      },
      "execution_count": 8,
      "outputs": [
        {
          "output_type": "stream",
          "name": "stdout",
          "text": [
            "[('18 July', '8', 'July'), ('19 January', '9', 'January')]\n"
          ]
        }
      ]
    },
    {
      "cell_type": "code",
      "source": [
        "pattern = r\"(((\\d){1,2}( (January|February|March|April|May|June|July|August|September|October|November|December)))|(((January|February|March|April|May|June|July|August|September|October|November|December) (\\d){1,2})))\"\n",
        "\n",
        "text = \"This is a date 18 July. Another date would be January 19.\"\n",
        "matches = re.findall(pattern, text)\n",
        "print(matches)"
      ],
      "metadata": {
        "colab": {
          "base_uri": "https://localhost:8080/"
        },
        "id": "VAVQskl47cMc",
        "outputId": "9250e89e-5f2c-46ba-8d71-45bb40177a68"
      },
      "execution_count": 10,
      "outputs": [
        {
          "output_type": "stream",
          "name": "stdout",
          "text": [
            "[('18 July', '18 July', '8', ' July', 'July', '', '', '', ''), ('January 19', '', '', '', '', 'January 19', 'January 19', 'January', '9')]\n"
          ]
        }
      ]
    },
    {
      "cell_type": "code",
      "source": [
        "# RegEx with SpaCy"
      ],
      "metadata": {
        "id": "Nd1YBDnE-ezg"
      },
      "execution_count": null,
      "outputs": []
    },
    {
      "cell_type": "code",
      "source": [
        "import spacy"
      ],
      "metadata": {
        "id": "Ep6ABmJY-wJr"
      },
      "execution_count": 12,
      "outputs": []
    },
    {
      "cell_type": "code",
      "source": [
        "text = \"This is a sample number 555-5555.\""
      ],
      "metadata": {
        "id": "_jDoJqY4-jX7"
      },
      "execution_count": 13,
      "outputs": []
    },
    {
      "cell_type": "code",
      "source": [
        "nlp = spacy.blank(\"en\")"
      ],
      "metadata": {
        "id": "43VCwSam-r6o"
      },
      "execution_count": 15,
      "outputs": []
    },
    {
      "cell_type": "code",
      "source": [
        "ruler = nlp.add_pipe(\"entity_ruler\")"
      ],
      "metadata": {
        "id": "Eoemneyz-3D8"
      },
      "execution_count": 16,
      "outputs": []
    },
    {
      "cell_type": "code",
      "source": [
        "pattern = [\n",
        "    {\"label\": \"PHONE_NUMBER\", \"pattern\":[{\"SHAPE\": \"ddd\"},\n",
        "    {\"ORTH\": \"-\", \"OP\": \"?\"}, {\"SHAPE\": \"dddd\"}]}\n",
        "]"
      ],
      "metadata": {
        "id": "z1niZ7du-7OB"
      },
      "execution_count": 17,
      "outputs": []
    },
    {
      "cell_type": "code",
      "source": [
        "ruler.add_patterns(pattern)"
      ],
      "metadata": {
        "id": "D5-9t4F-_hIX"
      },
      "execution_count": 18,
      "outputs": []
    },
    {
      "cell_type": "code",
      "source": [
        "doc = nlp(text)"
      ],
      "metadata": {
        "id": "GxO6XpB0_k3N"
      },
      "execution_count": 19,
      "outputs": []
    },
    {
      "cell_type": "code",
      "source": [
        "for ent in doc.ents:\n",
        "  print(ent.text, ent.label_)"
      ],
      "metadata": {
        "colab": {
          "base_uri": "https://localhost:8080/"
        },
        "id": "RWqzX-8h_m14",
        "outputId": "95fe8171-43af-4893-f5a7-39d6a5939b93"
      },
      "execution_count": 20,
      "outputs": [
        {
          "output_type": "stream",
          "name": "stdout",
          "text": [
            "555-5555 PHONE_NUMBER\n"
          ]
        }
      ]
    },
    {
      "cell_type": "code",
      "source": [
        "pattern = r\"((\\d){3}-(\\d){5})\"\n",
        "text = \"This is a sample number 555-55555\"\n",
        "matches = re.findall(pattern, text)\n",
        "print(matches)"
      ],
      "metadata": {
        "colab": {
          "base_uri": "https://localhost:8080/"
        },
        "id": "5zxPZ9QA_uSa",
        "outputId": "bd6ce04f-a330-41c0-ae01-d79b538ba486"
      },
      "execution_count": 23,
      "outputs": [
        {
          "output_type": "stream",
          "name": "stdout",
          "text": [
            "[('555-55555', '5', '5')]\n"
          ]
        }
      ]
    },
    {
      "cell_type": "code",
      "source": [
        "text = \"This is a sample number 555-5555.\"\n",
        "\n",
        "nlp = spacy.blank(\"en\")\n",
        "\n",
        "ruler = nlp.add_pipe(\"entity_ruler\")\n",
        "\n",
        "pattern = [\n",
        "    {\n",
        "        \"label\": \"PHONE_NUMBER\", \"pattern\": [{\"TEXT\": {\"REGEX\": \"(\\d){4}\"}}]\n",
        "    }\n",
        "]\n",
        "\n",
        "ruler.add_patterns(pattern)\n",
        "\n",
        "doc = nlp(text)\n",
        "\n",
        "for ent in doc.ents:\n",
        "  print(ent.text, ent.label_)"
      ],
      "metadata": {
        "colab": {
          "base_uri": "https://localhost:8080/"
        },
        "id": "9S_aIfiyAFFm",
        "outputId": "7e6951b3-0b91-4554-a63d-7a5b55c90bf1"
      },
      "execution_count": 26,
      "outputs": [
        {
          "output_type": "stream",
          "name": "stdout",
          "text": [
            "5555 PHONE_NUMBER\n"
          ]
        }
      ]
    },
    {
      "cell_type": "markdown",
      "source": [
        "multiword tokens with RegEx"
      ],
      "metadata": {
        "id": "iY9Tj_eQJxua"
      }
    },
    {
      "cell_type": "code",
      "source": [
        "import re\n",
        "\n",
        "text = \"Paul Newman was an American actor, but Paul Hollywood is a British TV Host. The name Paul is quite common.\"\n",
        "\n",
        "pattern = r\"Paul [A-Z]\\w+\"\n",
        "\n",
        "matches = re.finditer(pattern, text)\n",
        "\n",
        "for match in matches:\n",
        "  print(match)"
      ],
      "metadata": {
        "colab": {
          "base_uri": "https://localhost:8080/"
        },
        "id": "OEQ7-IDIJUh7",
        "outputId": "8a28b0a6-f5b7-439a-b750-29cc84809ccb"
      },
      "execution_count": 1,
      "outputs": [
        {
          "output_type": "stream",
          "name": "stdout",
          "text": [
            "<re.Match object; span=(0, 11), match='Paul Newman'>\n",
            "<re.Match object; span=(39, 53), match='Paul Hollywood'>\n"
          ]
        }
      ]
    },
    {
      "cell_type": "code",
      "source": [
        "import spacy\n",
        "from spacy.tokens import Span\n",
        "\n",
        "text = \"Paul Newman was an American actor, but Paul Hollywood is a British TV Host. The name Paul is quite common.\"\n",
        "pattern = r\"Paul [A-Z]\\w+\"\n",
        "\n",
        "nlp = spacy.blank(\"en\")\n",
        "doc = nlp(text)\n",
        "\n",
        "original_ents = list(doc.ents)"
      ],
      "metadata": {
        "id": "Z_nVZEIxJ4jO"
      },
      "execution_count": 2,
      "outputs": []
    },
    {
      "cell_type": "code",
      "source": [
        "mwt_ents = []\n",
        "for match in re.finditer(pattern, doc.text):\n",
        "  start, end = match.span()\n",
        "  span = doc.char_span(start, end)\n",
        "  if span is not None:\n",
        "    mwt_ents.append((span.start, span.end, span.text))"
      ],
      "metadata": {
        "id": "WPZpu_gUKbXc"
      },
      "execution_count": 5,
      "outputs": []
    },
    {
      "cell_type": "code",
      "source": [
        "print(mwt_ents)"
      ],
      "metadata": {
        "colab": {
          "base_uri": "https://localhost:8080/"
        },
        "id": "-a64kg3RN4dv",
        "outputId": "17f3f789-5316-4250-f043-57b6b2de374d"
      },
      "execution_count": 6,
      "outputs": [
        {
          "output_type": "stream",
          "name": "stdout",
          "text": [
            "[(0, 2, 'Paul Newman'), (8, 10, 'Paul Hollywood')]\n"
          ]
        }
      ]
    },
    {
      "cell_type": "code",
      "source": [
        "for ent in mwt_ents:\n",
        "  start, end, name = ent\n",
        "  per_ent = Span(doc, start, end, label=\"PERSON\")\n",
        "  original_ents.append(per_ent)"
      ],
      "metadata": {
        "id": "5F_aDrcFOFBo"
      },
      "execution_count": 7,
      "outputs": []
    },
    {
      "cell_type": "code",
      "source": [
        "doc.ents = original_ents"
      ],
      "metadata": {
        "id": "ar8Y5TP_OQjb"
      },
      "execution_count": 8,
      "outputs": []
    },
    {
      "cell_type": "code",
      "source": [
        "for ent in doc.ents:\n",
        "  print(ent.text, ent.label_)"
      ],
      "metadata": {
        "colab": {
          "base_uri": "https://localhost:8080/"
        },
        "id": "45VPhrV5OXIS",
        "outputId": "de290007-38f7-4a80-b9ee-0cff152cfc75"
      },
      "execution_count": 9,
      "outputs": [
        {
          "output_type": "stream",
          "name": "stdout",
          "text": [
            "Paul Newman PERSON\n",
            "Paul Hollywood PERSON\n"
          ]
        }
      ]
    },
    {
      "cell_type": "code",
      "source": [
        "from spacy.language import Language\n",
        "\n",
        "@Language.component(\"paul_ner\")\n",
        "def paul_ner(doc):\n",
        "  pattern = r\"Paul [A-Z]\\w+\"\n",
        "  original_ents = list(doc.ents)\n",
        "\n",
        "  mwt_ents = []\n",
        "  for match in re.finditer(pattern, doc.text):\n",
        "    start, end = match.span()\n",
        "    span = doc.char_span(start, end)\n",
        "    if span is not None:\n",
        "      mwt_ents.append((span.start, span.end, span.text))\n",
        "\n",
        "  for ent in mwt_ents:\n",
        "    start, end, name = ent\n",
        "    per_ent = Span(doc, start, end, label=\"PERSON\")\n",
        "    original_ents.append(per_ent)\n",
        "\n",
        "  doc.ents = original_ents\n",
        "\n",
        "  return (doc)"
      ],
      "metadata": {
        "id": "ftANpMWzOnNC"
      },
      "execution_count": 12,
      "outputs": []
    },
    {
      "cell_type": "code",
      "source": [
        "nlp2 = spacy.blank(\"en\")\n",
        "nlp2.add_pipe(\"paul_ner\")"
      ],
      "metadata": {
        "colab": {
          "base_uri": "https://localhost:8080/",
          "height": 103
        },
        "id": "HJsLtmvFPXvA",
        "outputId": "adf77e18-4d5d-471f-f291-d226478cf781"
      },
      "execution_count": 13,
      "outputs": [
        {
          "output_type": "execute_result",
          "data": {
            "text/plain": [
              "<function __main__.paul_ner(doc)>"
            ],
            "text/html": [
              "<div style=\"max-width:800px; border: 1px solid var(--colab-border-color);\"><style>\n",
              "      pre.function-repr-contents {\n",
              "        overflow-x: auto;\n",
              "        padding: 8px 12px;\n",
              "        max-height: 500px;\n",
              "      }\n",
              "\n",
              "      pre.function-repr-contents.function-repr-contents-collapsed {\n",
              "        cursor: pointer;\n",
              "        max-height: 100px;\n",
              "      }\n",
              "    </style>\n",
              "    <pre style=\"white-space: initial; background:\n",
              "         var(--colab-secondary-surface-color); padding: 8px 12px;\n",
              "         border-bottom: 1px solid var(--colab-border-color);\"><b>paul_ner</b><br/>def paul_ner(doc)</pre><pre class=\"function-repr-contents function-repr-contents-collapsed\" style=\"\"><a class=\"filepath\" style=\"display:none\" href=\"#\">/tmp/ipython-input-12-1263228972.py</a>&lt;no docstring&gt;</pre></div>"
            ]
          },
          "metadata": {},
          "execution_count": 13
        }
      ]
    },
    {
      "cell_type": "code",
      "source": [
        "doc2 = nlp2(text)\n",
        "print(doc2.ents)"
      ],
      "metadata": {
        "colab": {
          "base_uri": "https://localhost:8080/"
        },
        "id": "dWkoHfwHPbnV",
        "outputId": "1c47a8c1-4ae5-408c-b462-c32e76cdda26"
      },
      "execution_count": 14,
      "outputs": [
        {
          "output_type": "stream",
          "name": "stdout",
          "text": [
            "(Paul Newman, Paul Hollywood)\n"
          ]
        }
      ]
    },
    {
      "cell_type": "code",
      "source": [
        "from spacy.util import filter_spans\n",
        "\n",
        "@Language.component(\"cinema_ner\")\n",
        "def cinema_ner(doc):\n",
        "  pattern = r\"Hollywood\"\n",
        "  original_ents = list(doc.ents)\n",
        "\n",
        "  mwt_ents = []\n",
        "  for match in re.finditer(pattern, doc.text):\n",
        "    start, end = match.span()\n",
        "    span = doc.char_span(start, end)\n",
        "    if span is not None:\n",
        "      mwt_ents.append((span.start, span.end, span.text))\n",
        "\n",
        "  for ent in mwt_ents:\n",
        "    start, end, name = ent\n",
        "    per_ent = Span(doc, start, end, label=\"CINEMA\")\n",
        "    original_ents.append(per_ent)\n",
        "\n",
        "  filtered = filter_spans(original_ents)\n",
        "  doc.ents = filtered\n",
        "\n",
        "  return (doc)"
      ],
      "metadata": {
        "id": "tBh9ZYVlP7Bj"
      },
      "execution_count": 24,
      "outputs": []
    },
    {
      "cell_type": "code",
      "source": [
        "nlp3 = spacy.load(\"en_core_web_sm\")\n",
        "nlp3.add_pipe(\"cinema_ner\")"
      ],
      "metadata": {
        "colab": {
          "base_uri": "https://localhost:8080/",
          "height": 103
        },
        "id": "9Sm70-6lQKhR",
        "outputId": "3a9aa7ea-acf5-402b-c4ce-c7ecf420cd64"
      },
      "execution_count": 25,
      "outputs": [
        {
          "output_type": "execute_result",
          "data": {
            "text/plain": [
              "<function __main__.cinema_ner(doc)>"
            ],
            "text/html": [
              "<div style=\"max-width:800px; border: 1px solid var(--colab-border-color);\"><style>\n",
              "      pre.function-repr-contents {\n",
              "        overflow-x: auto;\n",
              "        padding: 8px 12px;\n",
              "        max-height: 500px;\n",
              "      }\n",
              "\n",
              "      pre.function-repr-contents.function-repr-contents-collapsed {\n",
              "        cursor: pointer;\n",
              "        max-height: 100px;\n",
              "      }\n",
              "    </style>\n",
              "    <pre style=\"white-space: initial; background:\n",
              "         var(--colab-secondary-surface-color); padding: 8px 12px;\n",
              "         border-bottom: 1px solid var(--colab-border-color);\"><b>cinema_ner</b><br/>def cinema_ner(doc)</pre><pre class=\"function-repr-contents function-repr-contents-collapsed\" style=\"\"><a class=\"filepath\" style=\"display:none\" href=\"#\">/tmp/ipython-input-24-3585944715.py</a>&lt;no docstring&gt;</pre></div>"
            ]
          },
          "metadata": {},
          "execution_count": 25
        }
      ]
    },
    {
      "cell_type": "code",
      "source": [
        "doc3 = nlp3(text)\n",
        "for ent in doc3.ents:\n",
        "  print(ent.text, ent.label_)"
      ],
      "metadata": {
        "colab": {
          "base_uri": "https://localhost:8080/"
        },
        "id": "r1K4_7xLQRCX",
        "outputId": "f0a7e373-9504-4413-b37d-14e8ca5bc989"
      },
      "execution_count": 27,
      "outputs": [
        {
          "output_type": "stream",
          "name": "stdout",
          "text": [
            "Paul Newman PERSON\n",
            "American NORP\n",
            "Paul Hollywood PERSON\n",
            "British NORP\n",
            "Paul PERSON\n"
          ]
        }
      ]
    }
  ]
}