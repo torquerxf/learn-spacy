{
  "nbformat": 4,
  "nbformat_minor": 0,
  "metadata": {
    "colab": {
      "provenance": [],
      "mount_file_id": "1ykSu3CsPnXVTMU6Lw_3SR9qaws93Q3mG",
      "authorship_tag": "ABX9TyMuzz25wejNXlV5w2umIcOA",
      "include_colab_link": true
    },
    "kernelspec": {
      "name": "python3",
      "display_name": "Python 3"
    },
    "language_info": {
      "name": "python"
    }
  },
  "cells": [
    {
      "cell_type": "markdown",
      "metadata": {
        "id": "view-in-github",
        "colab_type": "text"
      },
      "source": [
        "<a href=\"https://colab.research.google.com/github/torquerxf/learn-spacy/blob/main/NLP_livecoding4.ipynb\" target=\"_parent\"><img src=\"https://colab.research.google.com/assets/colab-badge.svg\" alt=\"Open In Colab\"/></a>"
      ]
    },
    {
      "cell_type": "code",
      "execution_count": 1,
      "metadata": {
        "id": "b59MlWa9nxOb"
      },
      "outputs": [],
      "source": [
        "import spacy"
      ]
    },
    {
      "cell_type": "code",
      "source": [
        "from spacy.matcher import Matcher"
      ],
      "metadata": {
        "id": "AEz-PQHun3Vo"
      },
      "execution_count": 2,
      "outputs": []
    },
    {
      "cell_type": "code",
      "source": [
        "nlp = spacy.load('en_core_web_sm')"
      ],
      "metadata": {
        "id": "ec1hHlIEn8PZ"
      },
      "execution_count": 3,
      "outputs": []
    },
    {
      "cell_type": "code",
      "source": [
        "matcher = Matcher(nlp.vocab)"
      ],
      "metadata": {
        "id": "2N9N3modoNMa"
      },
      "execution_count": 4,
      "outputs": []
    },
    {
      "cell_type": "code",
      "source": [
        "pattern = [{\"LIKE_EMAIL\": True}]\n",
        "matcher.add(\"EMAIL_ADDRESS\", [pattern])"
      ],
      "metadata": {
        "id": "QmBLJct2oSRl"
      },
      "execution_count": 5,
      "outputs": []
    },
    {
      "cell_type": "code",
      "source": [
        "doc = nlp(\"This is an email address : kvaosig@aol.com\")\n",
        "matches = matcher(doc)"
      ],
      "metadata": {
        "id": "EyfytjVtou_e"
      },
      "execution_count": 6,
      "outputs": []
    },
    {
      "cell_type": "code",
      "source": [
        "print(matches)"
      ],
      "metadata": {
        "colab": {
          "base_uri": "https://localhost:8080/"
        },
        "id": "1dSrU3bao3lc",
        "outputId": "62e2bd41-4112-4069-9eac-6e29928f1f0e"
      },
      "execution_count": 7,
      "outputs": [
        {
          "output_type": "stream",
          "name": "stdout",
          "text": [
            "[(16571425990740197027, 6, 7)]\n"
          ]
        }
      ]
    },
    {
      "cell_type": "code",
      "source": [
        "lexeme, start token, end token"
      ],
      "metadata": {
        "id": "419BOUTIo9ov"
      },
      "execution_count": null,
      "outputs": []
    },
    {
      "cell_type": "code",
      "source": [
        "print(nlp.vocab[matches[0][0]].text)"
      ],
      "metadata": {
        "colab": {
          "base_uri": "https://localhost:8080/"
        },
        "id": "09Yif0rwpBNb",
        "outputId": "1ff50e80-f953-481c-8833-f995207a91cb"
      },
      "execution_count": 9,
      "outputs": [
        {
          "output_type": "stream",
          "name": "stdout",
          "text": [
            "EMAIL_ADDRESS\n"
          ]
        }
      ]
    },
    {
      "cell_type": "code",
      "source": [
        "with open(\"/content/drive/MyDrive/NLP_yt/data/wiki_mlk.txt\", \"r\") as f:\n",
        "    text = f.read()"
      ],
      "metadata": {
        "id": "yVVxoRqWqmAL"
      },
      "execution_count": 10,
      "outputs": []
    },
    {
      "cell_type": "code",
      "source": [
        "print(text)"
      ],
      "metadata": {
        "colab": {
          "base_uri": "https://localhost:8080/"
        },
        "id": "tJSt530MrtR1",
        "outputId": "9773f14e-96aa-4e3e-f6c9-94805d7e4012"
      },
      "execution_count": 11,
      "outputs": [
        {
          "output_type": "stream",
          "name": "stdout",
          "text": [
            "Martin Luther King Jr. (born Michael King Jr.; January 15, 1929 – April 4, 1968) was an American Baptist minister and activist who became the most visible spokesman and leader in the American civil rights movement from 1955 until his assassination in 1968. King advanced civil rights through nonviolence and civil disobedience, inspired by his Christian beliefs and the nonviolent activism of Mahatma Gandhi. He was the son of early civil rights activist and minister Martin Luther King Sr.\n",
            "\n",
            "King participated in and led marches for blacks' right to vote, desegregation, labor rights, and other basic civil rights.[1] King led the 1955 Montgomery bus boycott and later became the first president of the Southern Christian Leadership Conference (SCLC). As president of the SCLC, he led the unsuccessful Albany Movement in Albany, Georgia, and helped organize some of the nonviolent 1963 protests in Birmingham, Alabama. King helped organize the 1963 March on Washington, where he delivered his famous \"I Have a Dream\" speech on the steps of the Lincoln Memorial.\n",
            "\n",
            "The SCLC put into practice the tactics of nonviolent protest with some success by strategically choosing the methods and places in which protests were carried out. There were several dramatic stand-offs with segregationist authorities, who sometimes turned violent.[2] Federal Bureau of Investigation (FBI) Director J. Edgar Hoover considered King a radical and made him an object of the FBI's COINTELPRO from 1963, forward. FBI agents investigated him for possible communist ties, recorded his extramarital affairs and reported on them to government officials, and, in 1964, mailed King a threatening anonymous letter, which he interpreted as an attempt to make him commit suicide.[3]\n",
            "\n",
            "On October 14, 1964, King won the Nobel Peace Prize for combating racial inequality through nonviolent resistance. In 1965, he helped organize two of the three Selma to Montgomery marches. In his final years, he expanded his focus to include opposition towards poverty, capitalism, and the Vietnam War.\n",
            "\n",
            "In 1968, King was planning a national occupation of Washington, D.C., to be called the Poor People's Campaign, when he was assassinated on April 4 in Memphis, Tennessee. His death was followed by riots in many U.S. cities. Allegations that James Earl Ray, the man convicted of killing King, had been framed or acted in concert with government agents persisted for decades after the shooting. King was posthumously awarded the Presidential Medal of Freedom in 1977 and the Congressional Gold Medal in 2003. Martin Luther King Jr. Day was established as a holiday in cities and states throughout the United States beginning in 1971; the holiday was enacted at the federal level by legislation signed by President Ronald Reagan in 1986. Hundreds of streets in the U.S. have been renamed in his honor, and the most populous county in Washington State was rededicated for him. The Martin Luther King Jr. Memorial on the National Mall in Washington, D.C., was dedicated in 2011.\n"
          ]
        }
      ]
    },
    {
      "cell_type": "code",
      "source": [
        "nlp = spacy.load(\"en_core_web_sm\")"
      ],
      "metadata": {
        "id": "8cvfX5bbrv8p"
      },
      "execution_count": 12,
      "outputs": []
    },
    {
      "cell_type": "code",
      "source": [
        "matcher = Matcher(nlp.vocab)\n",
        "pattern = [{\"POS\": \"PROPN\"}]\n",
        "matcher.add(\"PROPER_NOUN\", [pattern])"
      ],
      "metadata": {
        "id": "gBPdsdcwr00v"
      },
      "execution_count": 13,
      "outputs": []
    },
    {
      "cell_type": "code",
      "source": [
        "doc = nlp(text)"
      ],
      "metadata": {
        "id": "PJ-umNYJsGRf"
      },
      "execution_count": 14,
      "outputs": []
    },
    {
      "cell_type": "code",
      "source": [
        "matches = matcher(doc)\n",
        "print(len(matches))\n",
        "for match in matches[:10]:\n",
        "  print(match, doc[match[1]:match[2]])"
      ],
      "metadata": {
        "colab": {
          "base_uri": "https://localhost:8080/"
        },
        "id": "rHOrgTpQsIue",
        "outputId": "ec477377-866e-4074-e266-386af6ce7131"
      },
      "execution_count": 16,
      "outputs": [
        {
          "output_type": "stream",
          "name": "stdout",
          "text": [
            "101\n",
            "(451313080118390996, 0, 1) Martin\n",
            "(451313080118390996, 1, 2) Luther\n",
            "(451313080118390996, 2, 3) King\n",
            "(451313080118390996, 3, 4) Jr.\n",
            "(451313080118390996, 6, 7) Michael\n",
            "(451313080118390996, 7, 8) King\n",
            "(451313080118390996, 8, 9) Jr.\n",
            "(451313080118390996, 10, 11) January\n",
            "(451313080118390996, 15, 16) April\n",
            "(451313080118390996, 49, 50) King\n"
          ]
        }
      ]
    },
    {
      "cell_type": "code",
      "source": [
        "matcher = Matcher(nlp.vocab)\n",
        "pattern = [{\"POS\": \"PROPN\", \"OP\": \"+\"}]\n",
        "matcher.add(\"PROPER_NOUN\", [pattern])\n",
        "doc = nlp(text)\n",
        "matches = matcher(doc)\n",
        "print(len(matches))\n",
        "for match in matches[:10]:\n",
        "  print(match, doc[match[1]:match[2]])"
      ],
      "metadata": {
        "colab": {
          "base_uri": "https://localhost:8080/"
        },
        "id": "4qbKbuLlsOnc",
        "outputId": "9c8e0964-f0c2-4381-b1fc-f4df97ca4889"
      },
      "execution_count": 17,
      "outputs": [
        {
          "output_type": "stream",
          "name": "stdout",
          "text": [
            "174\n",
            "(451313080118390996, 0, 1) Martin\n",
            "(451313080118390996, 0, 2) Martin Luther\n",
            "(451313080118390996, 1, 2) Luther\n",
            "(451313080118390996, 0, 3) Martin Luther King\n",
            "(451313080118390996, 1, 3) Luther King\n",
            "(451313080118390996, 2, 3) King\n",
            "(451313080118390996, 0, 4) Martin Luther King Jr.\n",
            "(451313080118390996, 1, 4) Luther King Jr.\n",
            "(451313080118390996, 2, 4) King Jr.\n",
            "(451313080118390996, 3, 4) Jr.\n"
          ]
        }
      ]
    },
    {
      "cell_type": "code",
      "source": [
        "matcher = Matcher(nlp.vocab)\n",
        "pattern = [{\"POS\": \"PROPN\", \"OP\": \"+\"}]\n",
        "matcher.add(\"PROPER_NOUNS\", [pattern], greedy='LONGEST')\n",
        "doc = nlp(text)\n",
        "matches = matcher(doc)\n",
        "print(len(matches))\n",
        "for match in matches[:10]:\n",
        "  print(match, doc[match[1]:match[2]])"
      ],
      "metadata": {
        "colab": {
          "base_uri": "https://localhost:8080/"
        },
        "id": "C04bIPgCtEJz",
        "outputId": "4ebc5f93-caeb-41d0-c701-c6c2c605d35c"
      },
      "execution_count": 19,
      "outputs": [
        {
          "output_type": "stream",
          "name": "stdout",
          "text": [
            "60\n",
            "(3232560085755078826, 83, 88) Martin Luther King Sr.\n",
            "(3232560085755078826, 469, 474) Martin Luther King Jr. Day\n",
            "(3232560085755078826, 536, 541) Martin Luther King Jr. Memorial\n",
            "(3232560085755078826, 0, 4) Martin Luther King Jr.\n",
            "(3232560085755078826, 128, 132) Southern Christian Leadership Conference\n",
            "(3232560085755078826, 247, 251) Director J. Edgar Hoover\n",
            "(3232560085755078826, 6, 9) Michael King Jr.\n",
            "(3232560085755078826, 325, 328) Nobel Peace Prize\n",
            "(3232560085755078826, 422, 425) James Earl Ray\n",
            "(3232560085755078826, 463, 466) Congressional Gold Medal\n"
          ]
        }
      ]
    },
    {
      "cell_type": "code",
      "source": [
        "matcher = Matcher(nlp.vocab)\n",
        "pattern = [{\"POS\": \"PROPN\", \"OP\": \"+\"}]\n",
        "matcher.add(\"PROPER_NOUNS\", [pattern], greedy='LONGEST')\n",
        "doc = nlp(text)\n",
        "matches = matcher(doc)\n",
        "matches.sort(key = lambda x: x[1])\n",
        "print(len(matches))\n",
        "for match in matches[:10]:\n",
        "  print(match, doc[match[1]:match[2]])"
      ],
      "metadata": {
        "colab": {
          "base_uri": "https://localhost:8080/"
        },
        "id": "43tiV9qatjb2",
        "outputId": "fd355b1e-471b-4350-89f5-2dd20ef9381c"
      },
      "execution_count": 20,
      "outputs": [
        {
          "output_type": "stream",
          "name": "stdout",
          "text": [
            "60\n",
            "(3232560085755078826, 0, 4) Martin Luther King Jr.\n",
            "(3232560085755078826, 6, 9) Michael King Jr.\n",
            "(3232560085755078826, 10, 11) January\n",
            "(3232560085755078826, 15, 16) April\n",
            "(3232560085755078826, 49, 50) King\n",
            "(3232560085755078826, 69, 71) Mahatma Gandhi\n",
            "(3232560085755078826, 83, 88) Martin Luther King Sr.\n",
            "(3232560085755078826, 89, 90) King\n",
            "(3232560085755078826, 113, 114) King\n",
            "(3232560085755078826, 117, 118) Montgomery\n"
          ]
        }
      ]
    },
    {
      "cell_type": "code",
      "source": [
        "matcher = Matcher(nlp.vocab)\n",
        "pattern = [{\"POS\": \"PROPN\", \"OP\": \"+\"}, {\"POS\": \"VERB\"}]\n",
        "matcher.add(\"PROPER_NOUNS\", [pattern], greedy='LONGEST')\n",
        "doc = nlp(text)\n",
        "matches = matcher(doc)\n",
        "matches.sort(key = lambda x: x[1])\n",
        "print(len(matches))\n",
        "for match in matches[:10]:\n",
        "  print(match, doc[match[1]:match[2]])"
      ],
      "metadata": {
        "colab": {
          "base_uri": "https://localhost:8080/"
        },
        "id": "iMDwIexLuLph",
        "outputId": "47a9a9c6-037b-46c1-e9d8-19fc9c959cec"
      },
      "execution_count": 21,
      "outputs": [
        {
          "output_type": "stream",
          "name": "stdout",
          "text": [
            "7\n",
            "(3232560085755078826, 49, 51) King advanced\n",
            "(3232560085755078826, 89, 91) King participated\n",
            "(3232560085755078826, 113, 115) King led\n",
            "(3232560085755078826, 167, 169) King helped\n",
            "(3232560085755078826, 247, 252) Director J. Edgar Hoover considered\n",
            "(3232560085755078826, 322, 324) King won\n",
            "(3232560085755078826, 485, 488) United States beginning\n"
          ]
        }
      ]
    },
    {
      "cell_type": "code",
      "source": [
        "import json\n",
        "with open(\"/content/drive/MyDrive/NLP_yt/data/alice.json\", \"r\") as f:\n",
        "  data = json.load(f)"
      ],
      "metadata": {
        "id": "QaipOkIWu8ge"
      },
      "execution_count": 22,
      "outputs": []
    },
    {
      "cell_type": "code",
      "source": [
        "text = data[0][2][0]\n",
        "print(text)"
      ],
      "metadata": {
        "colab": {
          "base_uri": "https://localhost:8080/"
        },
        "id": "WzVIT4HKvGB4",
        "outputId": "77f8f51e-9e1e-4a28-afbd-14ddb17d3465"
      },
      "execution_count": 26,
      "outputs": [
        {
          "output_type": "stream",
          "name": "stdout",
          "text": [
            "Alice was beginning to get very tired of sitting by her sister on the bank, and of having nothing to do: once or twice she had peeped into the book her sister was reading, but it had no pictures or conversations in it, `and what is the use of a book,' thought Alice `without pictures or conversation?'\n"
          ]
        }
      ]
    },
    {
      "cell_type": "code",
      "source": [
        "text = text.replace(\"`\", \"'\")\n",
        "print(text)"
      ],
      "metadata": {
        "colab": {
          "base_uri": "https://localhost:8080/"
        },
        "id": "4gcyr87svRLB",
        "outputId": "7eea1ae0-4232-40ac-e309-416ea6be80db"
      },
      "execution_count": 27,
      "outputs": [
        {
          "output_type": "stream",
          "name": "stdout",
          "text": [
            "Alice was beginning to get very tired of sitting by her sister on the bank, and of having nothing to do: once or twice she had peeped into the book her sister was reading, but it had no pictures or conversations in it, 'and what is the use of a book,' thought Alice 'without pictures or conversation?'\n"
          ]
        }
      ]
    },
    {
      "cell_type": "code",
      "source": [
        "matcher = Matcher(nlp.vocab)\n",
        "pattern = [{\"ORTH\": \"'\"},\n",
        " {'IS_ALPHA': True, \"OP\": \"+\"},\n",
        "  {'IS_PUNCT': True, \"OP\": \"*\"},\n",
        "  {'ORTH': \"'\"}\n",
        "           ]\n",
        "matcher.add(\"PROPER_NOUNS\", [pattern], greedy='LONGEST')\n",
        "doc = nlp(text)\n",
        "matches = matcher(doc)\n",
        "matches.sort(key = lambda x: x[1])\n",
        "print(len(matches))\n",
        "for match in matches[:10]:\n",
        "  print(match, doc[match[1]:match[2]])"
      ],
      "metadata": {
        "colab": {
          "base_uri": "https://localhost:8080/"
        },
        "id": "nE0Dh6eGvrmj",
        "outputId": "4a72e5ec-8119-4dbd-c111-5c8dd18606b0"
      },
      "execution_count": 31,
      "outputs": [
        {
          "output_type": "stream",
          "name": "stdout",
          "text": [
            "2\n",
            "(3232560085755078826, 47, 58) 'and what is the use of a book,'\n",
            "(3232560085755078826, 60, 67) 'without pictures or conversation?'\n"
          ]
        }
      ]
    },
    {
      "cell_type": "code",
      "source": [
        "speak_lemmas = [\"think\", \"say\"]\n",
        "matcher = Matcher(nlp.vocab)\n",
        "pattern = [{\"ORTH\": \"'\"},\n",
        " {'IS_ALPHA': True, \"OP\": \"+\"},\n",
        "  {'IS_PUNCT': True, \"OP\": \"*\"},\n",
        "   {'ORTH': \"'\"},\n",
        "    {\"POS\": \"VERB\", \"LEMMA\": {\"IN\": speak_lemmas}},\n",
        "    {\"POS\": \"PROPN\", \"OP\": \"+\"},\n",
        "    {\"ORTH\": \"'\"},\n",
        " {'IS_ALPHA': True, \"OP\": \"+\"},\n",
        "  {'IS_PUNCT': True, \"OP\": \"*\"},\n",
        "   {'ORTH': \"'\"}\n",
        "           ]\n",
        "matcher.add(\"PROPER_NOUNS\", [pattern], greedy='LONGEST')\n",
        "doc = nlp(text)\n",
        "matches = matcher(doc)\n",
        "matches.sort(key = lambda x: x[1])\n",
        "print(len(matches))\n",
        "for match in matches[:10]:\n",
        "  print(match, doc[match[1]:match[2]])"
      ],
      "metadata": {
        "colab": {
          "base_uri": "https://localhost:8080/"
        },
        "id": "YlRfx76KxFb2",
        "outputId": "22d286f5-f8d2-4f93-ad91-6047d75d9ba6"
      },
      "execution_count": 35,
      "outputs": [
        {
          "output_type": "stream",
          "name": "stdout",
          "text": [
            "1\n",
            "(3232560085755078826, 47, 67) 'and what is the use of a book,' thought Alice 'without pictures or conversation?'\n"
          ]
        }
      ]
    },
    {
      "cell_type": "code",
      "source": [
        "for text in data[0][2]:\n",
        "  text = text.replace(\"`\", \"'\")\n",
        "  doc = nlp(text)\n",
        "  matches = matcher(doc)\n",
        "  matches.sort(key = lambda x: x[1])\n",
        "  print(len(matches))\n",
        "  for match in matches[:10]:\n",
        "    print(match, doc[match[1]:match[2]])"
      ],
      "metadata": {
        "colab": {
          "base_uri": "https://localhost:8080/"
        },
        "id": "mpgzqjt4yrD6",
        "outputId": "60f7e99c-873c-4a71-97c6-737d1e65a780"
      },
      "execution_count": 37,
      "outputs": [
        {
          "output_type": "stream",
          "name": "stdout",
          "text": [
            "1\n",
            "(3232560085755078826, 47, 67) 'and what is the use of a book,' thought Alice 'without pictures or conversation?'\n",
            "0\n",
            "0\n",
            "0\n",
            "0\n",
            "0\n",
            "0\n",
            "0\n",
            "0\n",
            "0\n",
            "0\n",
            "0\n",
            "0\n",
            "0\n",
            "0\n",
            "0\n",
            "0\n"
          ]
        }
      ]
    },
    {
      "cell_type": "code",
      "source": [
        "speak_lemmas = [\"think\", \"say\"]\n",
        "text = data[0][2][0].replace( \"`\", \"'\")\n",
        "matcher = Matcher(nlp.vocab)\n",
        "pattern1 = [{'ORTH': \"'\"}, {'IS_ALPHA': True, \"OP\": \"+\"}, {'IS_PUNCT': True, \"OP\": \"*\"}, {'ORTH': \"'\"}, {\"POS\": \"VERB\", \"LEMMA\": {\"IN\": speak_lemmas}}, {\"POS\": \"PROPN\", \"OP\": \"+\"}, {'ORTH': \"'\"}, {'IS_ALPHA': True, \"OP\": \"+\"}, {'IS_PUNCT': True, \"OP\": \"*\"}, {'ORTH': \"'\"}]\n",
        "pattern2 = [{'ORTH': \"'\"}, {'IS_ALPHA': True, \"OP\": \"+\"}, {'IS_PUNCT': True, \"OP\": \"*\"}, {'ORTH': \"'\"}, {\"POS\": \"VERB\", \"LEMMA\": {\"IN\": speak_lemmas}}, {\"POS\": \"PROPN\", \"OP\": \"+\"}]\n",
        "pattern3 = [{\"POS\": \"PROPN\", \"OP\": \"+\"},{\"POS\": \"VERB\", \"LEMMA\": {\"IN\": speak_lemmas}}, {'ORTH': \"'\"}, {'IS_ALPHA': True, \"OP\": \"+\"}, {'IS_PUNCT': True, \"OP\": \"*\"}, {'ORTH': \"'\"}]\n",
        "matcher.add(\"PROPER_NOUNS\", [pattern1, pattern2, pattern3], greedy='LONGEST')\n",
        "for text in data[0][2]:\n",
        "    text = text.replace(\"`\", \"'\")\n",
        "    doc = nlp(text)\n",
        "    matches = matcher(doc)\n",
        "    matches.sort(key = lambda x: x[1])\n",
        "    print (len(matches))\n",
        "    for match in matches[:10]:\n",
        "        print (match, doc[match[1]:match[2]])"
      ],
      "metadata": {
        "colab": {
          "base_uri": "https://localhost:8080/"
        },
        "id": "nTTWv0xczhAm",
        "outputId": "5c2931b6-e07f-4414-96ac-c91f3d272a71"
      },
      "execution_count": 38,
      "outputs": [
        {
          "output_type": "stream",
          "name": "stdout",
          "text": [
            "1\n",
            "(3232560085755078826, 47, 67) 'and what is the use of a book,' thought Alice 'without pictures or conversation?'\n",
            "0\n",
            "0\n",
            "0\n",
            "0\n",
            "0\n",
            "1\n",
            "(3232560085755078826, 0, 6) 'Well!' thought Alice\n",
            "0\n",
            "0\n",
            "0\n",
            "0\n",
            "0\n",
            "0\n",
            "0\n",
            "1\n",
            "(3232560085755078826, 57, 68) 'which certainly was not here before,' said Alice\n",
            "0\n",
            "0\n"
          ]
        }
      ]
    }
  ]
}